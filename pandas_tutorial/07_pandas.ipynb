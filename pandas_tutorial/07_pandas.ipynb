{
 "cells": [
  {
   "cell_type": "markdown",
   "metadata": {},
   "source": [
    "### Groupby"
   ]
  },
  {
   "cell_type": "code",
   "execution_count": 10,
   "metadata": {},
   "outputs": [
    {
     "name": "stdout",
     "output_type": "stream",
     "text": [
      "            Segment  Country    Product Discount Band  Units Sold  \\\n",
      "0        Government   Canada  Carretera           NaN      1618.5   \n",
      "1        Government  Germany  Carretera           NaN      1321.0   \n",
      "2         Midmarket   France  Carretera           NaN      2178.0   \n",
      "3         Midmarket  Germany  Carretera           NaN       888.0   \n",
      "4         Midmarket   Mexico  Carretera           NaN      2470.0   \n",
      "5        Government  Germany  Carretera           NaN      1513.0   \n",
      "6         Midmarket  Germany    Montana           NaN       921.0   \n",
      "7  Channel Partners   Canada    Montana           NaN      2518.0   \n",
      "8        Government   France    Montana           NaN      1899.0   \n",
      "9  Channel Partners  Germany    Montana           NaN      1545.0   \n",
      "\n",
      "   Manufacturing Price  Sale Price  Gross Sales  Discounts     Sales  \\\n",
      "0                    3          20      32370.0        0.0   32370.0   \n",
      "1                    3          20      26420.0        0.0   26420.0   \n",
      "2                    3          15      32670.0        0.0   32670.0   \n",
      "3                    3          15      13320.0        0.0   13320.0   \n",
      "4                    3          15      37050.0        0.0   37050.0   \n",
      "5                    3         350     529550.0        0.0  529550.0   \n",
      "6                    5          15      13815.0        0.0   13815.0   \n",
      "7                    5          12      30216.0        0.0   30216.0   \n",
      "8                    5          20      37980.0        0.0   37980.0   \n",
      "9                    5          12      18540.0        0.0   18540.0   \n",
      "\n",
      "       COGS    Profit       Date  Month Number Month Name  Year  \n",
      "0   16185.0   16185.0 2014-01-01             1    January  2014  \n",
      "1   13210.0   13210.0 2014-01-01             1    January  2014  \n",
      "2   21780.0   10890.0 2014-06-01             6       June  2014  \n",
      "3    8880.0    4440.0 2014-06-01             6       June  2014  \n",
      "4   24700.0   12350.0 2014-06-01             6       June  2014  \n",
      "5  393380.0  136170.0 2014-12-01            12   December  2014  \n",
      "6    9210.0    4605.0 2014-03-01             3      March  2014  \n",
      "7    7554.0   22662.0 2014-06-01             6       June  2014  \n",
      "8   18990.0   18990.0 2014-06-01             6       June  2014  \n",
      "9    4635.0   13905.0 2014-06-01             6       June  2014  \n"
     ]
    }
   ],
   "source": [
    "import pandas as pd \n",
    "\n",
    "data = pd.read_excel(\"Financial.xlsx\")\n",
    "print(data.head(10))"
   ]
  },
  {
   "cell_type": "code",
   "execution_count": 12,
   "metadata": {},
   "outputs": [
    {
     "name": "stdout",
     "output_type": "stream",
     "text": [
      "                                           Product\n",
      "Segment          Country                          \n",
      "Channel Partners Canada                         20\n",
      "                 France                         20\n",
      "                 Germany                        20\n",
      "                 Mexico                         20\n",
      "                 United States of America       20\n",
      "Enterprise       Canada                         20\n",
      "                 France                         20\n",
      "                 Germany                        20\n",
      "                 Mexico                         20\n",
      "                 United States of America       20\n",
      "Government       Canada                         60\n",
      "                 France                         60\n",
      "                 Germany                        60\n",
      "                 Mexico                         60\n",
      "                 United States of America       60\n",
      "Midmarket        Canada                         20\n",
      "                 France                         20\n",
      "                 Germany                        20\n",
      "                 Mexico                         20\n",
      "                 United States of America       20\n",
      "Small Business   Canada                         20\n",
      "                 France                         20\n",
      "                 Germany                        20\n",
      "                 Mexico                         20\n",
      "                 United States of America       20\n"
     ]
    }
   ],
   "source": [
    "gp = data.groupby([\"Segment\", \"Country\"]).agg({\"Product\": \"count\"})\n",
    "print(gp)"
   ]
  },
  {
   "cell_type": "code",
   "execution_count": 19,
   "metadata": {},
   "outputs": [
    {
     "name": "stdout",
     "output_type": "stream",
     "text": [
      "                          Units Sold\n",
      "Country                             \n",
      "Canada                        4251.0\n",
      "France                        4243.5\n",
      "Germany                       4219.5\n",
      "Mexico                        2993.0\n",
      "United States of America      4492.5\n"
     ]
    }
   ],
   "source": [
    "gp = data.groupby( \"Country\").agg({\"Units Sold\": \"max\"})\n",
    "print(gp)\n",
    "\n",
    "\n",
    "\n"
   ]
  },
  {
   "cell_type": "code",
   "execution_count": null,
   "metadata": {},
   "outputs": [],
   "source": []
  }
 ],
 "metadata": {
  "kernelspec": {
   "display_name": "base",
   "language": "python",
   "name": "python3"
  },
  "language_info": {
   "codemirror_mode": {
    "name": "ipython",
    "version": 3
   },
   "file_extension": ".py",
   "mimetype": "text/x-python",
   "name": "python",
   "nbconvert_exporter": "python",
   "pygments_lexer": "ipython3",
   "version": "3.11.7"
  }
 },
 "nbformat": 4,
 "nbformat_minor": 2
}
