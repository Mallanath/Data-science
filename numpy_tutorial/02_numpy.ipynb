{
 "cells": [
  {
   "cell_type": "markdown",
   "metadata": {},
   "source": [
    "### Inspecting an ARRAYS"
   ]
  },
  {
   "cell_type": "code",
   "execution_count": 11,
   "metadata": {},
   "outputs": [
    {
     "name": "stdout",
     "output_type": "stream",
     "text": [
      "[[30.  40.  40. ]\n",
      " [40.  30.9 10. ]]\n",
      "(2, 3)\n",
      "2\n",
      "6\n",
      "<class 'numpy.ndarray'>\n",
      "float64\n",
      "[[30 40 40]\n",
      " [40 30 10]]\n"
     ]
    }
   ],
   "source": [
    "import numpy as np \n",
    "\n",
    "a = [[30, 40, 40], [40, 30.9, 10]]\n",
    "arr = np.array(a)\n",
    "\n",
    "print(arr)\n",
    "print(arr.shape) # row, column\n",
    "print(len(arr)) # number of nested values\n",
    "print(np.size(arr)) #number of element\n",
    "print(type(arr)) # datatype of the variable\n",
    "print(arr.dtype) # datatype of array\n",
    "print(arr.astype(int)) # conversion of datatype"
   ]
  },
  {
   "cell_type": "code",
   "execution_count": null,
   "metadata": {},
   "outputs": [],
   "source": []
  }
 ],
 "metadata": {
  "kernelspec": {
   "display_name": "base",
   "language": "python",
   "name": "python3"
  },
  "language_info": {
   "codemirror_mode": {
    "name": "ipython",
    "version": 3
   },
   "file_extension": ".py",
   "mimetype": "text/x-python",
   "name": "python",
   "nbconvert_exporter": "python",
   "pygments_lexer": "ipython3",
   "version": "3.11.7"
  }
 },
 "nbformat": 4,
 "nbformat_minor": 2
}
