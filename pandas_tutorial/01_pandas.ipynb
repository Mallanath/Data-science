{
 "cells": [
  {
   "cell_type": "markdown",
   "metadata": {},
   "source": [
    "### Data Frames"
   ]
  },
  {
   "cell_type": "code",
   "execution_count": 2,
   "metadata": {},
   "outputs": [
    {
     "name": "stdout",
     "output_type": "stream",
     "text": [
      "        Name  Age    Salary\n",
      "0       john   25     30009\n",
      "1  mallanath   21     40000\n",
      "2      lingu   23  20090909\n"
     ]
    }
   ],
   "source": [
    "import pandas as pd \n",
    "\n",
    "data = {\"Name\": [\"john\", \"mallanath\", \"lingu\"],\n",
    "        \"Age\":[25,21,23],\n",
    "        \"Salary\": [30009,40000,20090909]}\n",
    "\n",
    "df = pd.DataFrame(data)\n",
    "print(df)\n"
   ]
  },
  {
   "cell_type": "code",
   "execution_count": 5,
   "metadata": {},
   "outputs": [
    {
     "name": "stdout",
     "output_type": "stream",
     "text": [
      "              Segment                   Country    Product Discount Band  \\\n",
      "0          Government                    Canada  Carretera           NaN   \n",
      "1          Government                   Germany  Carretera           NaN   \n",
      "2           Midmarket                    France  Carretera           NaN   \n",
      "3           Midmarket                   Germany  Carretera           NaN   \n",
      "4           Midmarket                    Mexico  Carretera           NaN   \n",
      "..                ...                       ...        ...           ...   \n",
      "695    Small Business                    France   Amarilla          High   \n",
      "696    Small Business                    Mexico   Amarilla          High   \n",
      "697        Government                    Mexico    Montana          High   \n",
      "698        Government                    Canada      Paseo          High   \n",
      "699  Channel Partners  United States of America        VTT          High   \n",
      "\n",
      "     Units Sold  Manufacturing Price  Sale Price  Gross Sales  Discounts  \\\n",
      "0        1618.5                    3          20      32370.0       0.00   \n",
      "1        1321.0                    3          20      26420.0       0.00   \n",
      "2        2178.0                    3          15      32670.0       0.00   \n",
      "3         888.0                    3          15      13320.0       0.00   \n",
      "4        2470.0                    3          15      37050.0       0.00   \n",
      "..          ...                  ...         ...          ...        ...   \n",
      "695      2475.0                  260         300     742500.0  111375.00   \n",
      "696       546.0                  260         300     163800.0   24570.00   \n",
      "697      1368.0                    5           7       9576.0    1436.40   \n",
      "698       723.0                   10           7       5061.0     759.15   \n",
      "699      1806.0                  250          12      21672.0    3250.80   \n",
      "\n",
      "         Sales      COGS    Profit       Date  Month Number Month Name  Year  \n",
      "0     32370.00   16185.0  16185.00 2014-01-01             1    January  2014  \n",
      "1     26420.00   13210.0  13210.00 2014-01-01             1    January  2014  \n",
      "2     32670.00   21780.0  10890.00 2014-06-01             6       June  2014  \n",
      "3     13320.00    8880.0   4440.00 2014-06-01             6       June  2014  \n",
      "4     37050.00   24700.0  12350.00 2014-06-01             6       June  2014  \n",
      "..         ...       ...       ...        ...           ...        ...   ...  \n",
      "695  631125.00  618750.0  12375.00 2014-03-01             3      March  2014  \n",
      "696  139230.00  136500.0   2730.00 2014-10-01            10    October  2014  \n",
      "697    8139.60    6840.0   1299.60 2014-02-01             2   February  2014  \n",
      "698    4301.85    3615.0    686.85 2014-04-01             4      April  2014  \n",
      "699   18421.20    5418.0  13003.20 2014-05-01             5        May  2014  \n",
      "\n",
      "[700 rows x 16 columns]\n"
     ]
    }
   ],
   "source": [
    "data = pd.read_excel(\"Financial.xlsx\")\n",
    "print(data)"
   ]
  },
  {
   "cell_type": "code",
   "execution_count": null,
   "metadata": {},
   "outputs": [],
   "source": []
  }
 ],
 "metadata": {
  "kernelspec": {
   "display_name": "base",
   "language": "python",
   "name": "python3"
  },
  "language_info": {
   "codemirror_mode": {
    "name": "ipython",
    "version": 3
   },
   "file_extension": ".py",
   "mimetype": "text/x-python",
   "name": "python",
   "nbconvert_exporter": "python",
   "pygments_lexer": "ipython3",
   "version": "3.11.7"
  }
 },
 "nbformat": 4,
 "nbformat_minor": 2
}
