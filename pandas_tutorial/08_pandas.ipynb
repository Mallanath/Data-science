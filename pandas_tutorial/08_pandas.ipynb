{
 "cells": [
  {
   "cell_type": "markdown",
   "metadata": {},
   "source": [
    "### Merge, Join and Concatenae in Pandas"
   ]
  },
  {
   "cell_type": "code",
   "execution_count": 3,
   "metadata": {},
   "outputs": [
    {
     "name": "stdout",
     "output_type": "stream",
     "text": [
      "  Emp Id       Name  Age\n",
      "0    E01        Ram   20\n",
      "1    E02  Mallanath   21\n",
      "2    E03        Raj   30\n",
      "3    E04       King   24\n",
      "4    E05  Eshpineol   25\n",
      "5    E06     satish   20\n",
      "\n",
      "  Emp Id  Salary\n",
      "0    E01   24000\n",
      "1    E07   43000\n",
      "2    E03   50000\n",
      "3    E04   34000\n",
      "4    E08   40000\n",
      "5    E06   30000\n"
     ]
    }
   ],
   "source": [
    "import pandas as pd\n",
    "\n",
    "data1 = {\"Emp Id\": [\"E01\",\"E02\",\"E03\",\"E04\",\"E05\",\"E06\"],\n",
    "         \"Name\": [\"Ram\", \"Mallanath\", \"Raj\", \"King\", \"Eshpineol\", \"satish\"],\n",
    "         \"Age\": [20, 21, 30, 24, 25, 20]}\n",
    "\n",
    "data2 = {\"Emp Id\": [\"E01\",\"E07\",\"E03\",\"E04\",\"E08\",\"E06\"],\n",
    "         \"Salary\": [24000, 43000, 50000, 34000, 40000, 30000]}\n",
    "\n",
    "df1 = pd.DataFrame(data1)\n",
    "df2 = pd.DataFrame(data2)\n",
    "\n",
    "print(df1)\n",
    "print()\n",
    "print(df2)"
   ]
  },
  {
   "cell_type": "code",
   "execution_count": 4,
   "metadata": {},
   "outputs": [
    {
     "name": "stdout",
     "output_type": "stream",
     "text": [
      "  Emp Id    Name  Age  Salary\n",
      "0    E01     Ram   20   24000\n",
      "1    E03     Raj   30   50000\n",
      "2    E04    King   24   34000\n",
      "3    E06  satish   20   30000\n"
     ]
    }
   ],
   "source": [
    "print(pd.merge(df1,df2, on=\"Emp Id\"))\n"
   ]
  },
  {
   "cell_type": "code",
   "execution_count": 5,
   "metadata": {},
   "outputs": [
    {
     "name": "stdout",
     "output_type": "stream",
     "text": [
      "  Emp Id       Name  Age   Salary\n",
      "0    E01        Ram   20  24000.0\n",
      "1    E02  Mallanath   21      NaN\n",
      "2    E03        Raj   30  50000.0\n",
      "3    E04       King   24  34000.0\n",
      "4    E05  Eshpineol   25      NaN\n",
      "5    E06     satish   20  30000.0\n"
     ]
    }
   ],
   "source": [
    "print(pd.merge(left = df1, right = df2, on=\"Emp Id\", how = \"left\"))"
   ]
  },
  {
   "cell_type": "code",
   "execution_count": 6,
   "metadata": {},
   "outputs": [
    {
     "name": "stdout",
     "output_type": "stream",
     "text": [
      "  Emp Id    Name   Age  Salary\n",
      "0    E01     Ram  20.0   24000\n",
      "1    E07     NaN   NaN   43000\n",
      "2    E03     Raj  30.0   50000\n",
      "3    E04    King  24.0   34000\n",
      "4    E08     NaN   NaN   40000\n",
      "5    E06  satish  20.0   30000\n"
     ]
    }
   ],
   "source": [
    "print(pd.merge(left = df1, right = df2, on=\"Emp Id\", how = \"right\"))"
   ]
  },
  {
   "cell_type": "code",
   "execution_count": 7,
   "metadata": {},
   "outputs": [],
   "source": [
    "import pandas as pd\n",
    "\n",
    "data1 = {\"Emp Id\": [\"E01\",\"E02\",\"E03\",\"E04\",\"E05\",\"E06\"],\n",
    "         \"Name\": [\"Ram\", \"Mallanath\", \"Raj\", \"King\", \"Eshpineol\", \"satish\"],\n",
    "         \"Age\": [20, 21, 30, 24, 25, 20]}\n",
    "\n",
    "data2 = {\"Emp Id\": [\"E07\",\"E08\",\"E09\",\"E10\",\"E11\",\"E12\"],\n",
    "         \"Name\": [\"sham\", \"ram\", \"Rajiv\", \"singh\", \"thakur\", \"santhosh\"],\n",
    "         \"Age\": [20, 21, 33, 24, 45, 20]}\n",
    "\n",
    "df1 = pd.DataFrame(data1)\n",
    "df2 = pd.DataFrame(data2)\n"
   ]
  },
  {
   "cell_type": "code",
   "execution_count": 8,
   "metadata": {},
   "outputs": [
    {
     "name": "stdout",
     "output_type": "stream",
     "text": [
      "  Emp Id       Name  Age\n",
      "0    E01        Ram   20\n",
      "1    E02  Mallanath   21\n",
      "2    E03        Raj   30\n",
      "3    E04       King   24\n",
      "4    E05  Eshpineol   25\n",
      "5    E06     satish   20\n",
      "0    E07       sham   20\n",
      "1    E08        ram   21\n",
      "2    E09      Rajiv   33\n",
      "3    E10      singh   24\n",
      "4    E11     thakur   45\n",
      "5    E12   santhosh   20\n"
     ]
    }
   ],
   "source": [
    "print(pd.concat([df1,df2]))"
   ]
  },
  {
   "cell_type": "code",
   "execution_count": null,
   "metadata": {},
   "outputs": [],
   "source": []
  }
 ],
 "metadata": {
  "kernelspec": {
   "display_name": "base",
   "language": "python",
   "name": "python3"
  },
  "language_info": {
   "codemirror_mode": {
    "name": "ipython",
    "version": 3
   },
   "file_extension": ".py",
   "mimetype": "text/x-python",
   "name": "python",
   "nbconvert_exporter": "python",
   "pygments_lexer": "ipython3",
   "version": "3.11.7"
  }
 },
 "nbformat": 4,
 "nbformat_minor": 2
}
