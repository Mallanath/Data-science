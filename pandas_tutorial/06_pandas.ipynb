{
 "cells": [
  {
   "cell_type": "markdown",
   "metadata": {},
   "source": [
    "### Column Transformation - part 2"
   ]
  },
  {
   "cell_type": "code",
   "execution_count": 2,
   "metadata": {},
   "outputs": [
    {
     "name": "stdout",
     "output_type": "stream",
     "text": [
      "   Unnamed: 0 First Name Last Name  Salary EEID\n",
      "0           0      krish      naik  209090   E1\n",
      "1           1  mallanath      mise  299090   E2\n",
      "2           3      lingu     mokte  809090   E3\n",
      "3           4    sandhya      mise  709090   E4\n",
      "4           5     pintu    thakkur  409090   E5\n",
      "   Unnamed: 0 First Name Last Name  Salary EEID     Bonus\n",
      "0           0      krish      naik  209090   E1   41818.0\n",
      "1           1  mallanath      mise  299090   E2   59818.0\n",
      "2           3      lingu     mokte  809090   E3  161818.0\n",
      "3           4    sandhya      mise  709090   E4  141818.0\n",
      "4           5     pintu    thakkur  409090   E5   81818.0\n"
     ]
    }
   ],
   "source": [
    "import pandas as pd\n",
    "\n",
    "data = pd.read_excel(\"practise-1.xlsx\")\n",
    "print(data)\n",
    "data[\"Bonus\"] = (data[\"Salary\"]/100)*20\n",
    "print(data)"
   ]
  },
  {
   "cell_type": "code",
   "execution_count": 6,
   "metadata": {},
   "outputs": [
    {
     "name": "stdout",
     "output_type": "stream",
     "text": [
      "     Months\n",
      "0   January\n",
      "1  February\n",
      "2     March\n",
      "3     April\n",
      "     Months Short Month\n",
      "0   January         Jan\n",
      "1  February         Feb\n",
      "2     March         Mar\n",
      "3     April         Apr\n"
     ]
    }
   ],
   "source": [
    "data = {\"Months\": [\"January\", \"February\", \"March\", \"April\"]}\n",
    "\n",
    "a = pd.DataFrame(data)\n",
    "print(a)\n",
    "\n",
    "def extract(value):\n",
    "    return value[0:3]\n",
    "\n",
    "a[\"Short Month\"] = a[\"Months\"].map(extract)\n",
    "print(a)"
   ]
  },
  {
   "cell_type": "code",
   "execution_count": null,
   "metadata": {},
   "outputs": [],
   "source": []
  }
 ],
 "metadata": {
  "kernelspec": {
   "display_name": "base",
   "language": "python",
   "name": "python3"
  },
  "language_info": {
   "codemirror_mode": {
    "name": "ipython",
    "version": 3
   },
   "file_extension": ".py",
   "mimetype": "text/x-python",
   "name": "python",
   "nbconvert_exporter": "python",
   "pygments_lexer": "ipython3",
   "version": "3.11.7"
  }
 },
 "nbformat": 4,
 "nbformat_minor": 2
}
